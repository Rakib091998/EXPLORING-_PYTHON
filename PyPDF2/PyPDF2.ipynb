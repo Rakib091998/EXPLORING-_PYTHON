{
 "cells": [
  {
   "cell_type": "markdown",
   "metadata": {},
   "source": [
    "# Extracting Metadata From PDFs"
   ]
  },
  {
   "cell_type": "code",
   "execution_count": 1,
   "metadata": {},
   "outputs": [
    {
     "name": "stdout",
     "output_type": "stream",
     "text": [
      "{'/Creator': 'Rave (http://www.nevrona.com/rave)', '/Producer': 'Nevrona Designs', '/CreationDate': 'D:20060301072826'}\n"
     ]
    }
   ],
   "source": [
    "from PyPDF2 import PdfFileReader\n",
    "def get_info(path):\n",
    "    with open(path, 'rb') as f:\n",
    "        pdf = PdfFileReader(f)\n",
    "        info = pdf.getDocumentInfo()\n",
    "        number_of_pages = pdf.getNumPages()\n",
    "    print(info)\n",
    "    author = info.author\n",
    "    creator = info.creator\n",
    "    producer = info.producer\n",
    "    subject = info.subject\n",
    "    title = info.title\n",
    "if __name__ == '__main__':\n",
    "    path = 'sample.pdf'\n",
    "    get_info(path)"
   ]
  },
  {
   "cell_type": "markdown",
   "metadata": {},
   "source": [
    "# Extracting Text From PDFs"
   ]
  },
  {
   "cell_type": "code",
   "execution_count": 2,
   "metadata": {},
   "outputs": [
    {
     "name": "stdout",
     "output_type": "stream",
     "text": [
      "{'/Type': '/Page', '/Parent': IndirectObject(3, 0), '/Resources': {'/Font': {'/F1': IndirectObject(9, 0)}, '/ProcSet': IndirectObject(8, 0)}, '/MediaBox': [0, 0, 612, 792], '/Contents': IndirectObject(7, 0)}\n",
      "Page type: <class 'PyPDF2.pdf.PageObject'>\n",
      " Simple PDF File 2  ...continued from page 1. Yet more text. And more text. And more text.  And more text. And more text. And more text. And more text. And more  text. Oh, how boring typing this stuff. But not as boring as watching  paint dry. And more text. And more text. And more text. And more text.  Boring.  More, a little more text. The end, and just as well. \n"
     ]
    }
   ],
   "source": [
    "from PyPDF2 import PdfFileReader\n",
    "def text_extractor(path):\n",
    "    with open(path, 'rb') as f:\n",
    "        pdf = PdfFileReader(f)\n",
    "        # get the first page\n",
    "        page = pdf.getPage(1)\n",
    "        print(page)\n",
    "        print('Page type: {}'.format(str(type(page))))\n",
    "        text = page.extractText()\n",
    "        print(text)\n",
    "if __name__ == '__main__':\n",
    "    path = 'sample.pdf'\n",
    "    text_extractor(path)"
   ]
  },
  {
   "cell_type": "markdown",
   "metadata": {},
   "source": [
    "# Splitting PDFs"
   ]
  },
  {
   "cell_type": "code",
   "execution_count": 3,
   "metadata": {},
   "outputs": [
    {
     "name": "stdout",
     "output_type": "stream",
     "text": [
      "Created: sample_page_1.pdf\n",
      "Created: sample_page_2.pdf\n"
     ]
    }
   ],
   "source": [
    "import os\n",
    "from PyPDF2 import PdfFileReader, PdfFileWriter\n",
    "def pdf_splitter(path):\n",
    "    fname = os.path.splitext(os.path.basename(path))[0]\n",
    "    pdf = PdfFileReader(path)\n",
    "    for page in range(pdf.getNumPages()):\n",
    "        pdf_writer = PdfFileWriter()\n",
    "        pdf_writer.addPage(pdf.getPage(page))\n",
    "        output_filename = '{}_page_{}.pdf'.format(\n",
    "            fname, page+1)\n",
    "        with open(output_filename, 'wb') as out:\n",
    "            pdf_writer.write(out)\n",
    "        print('Created: {}'.format(output_filename))\n",
    "if __name__ == '__main__':\n",
    "    path = 'sample.pdf'\n",
    "    pdf_splitter(path)"
   ]
  },
  {
   "cell_type": "markdown",
   "metadata": {},
   "source": [
    "# Merging Multiple PDFs Together"
   ]
  },
  {
   "cell_type": "code",
   "execution_count": 4,
   "metadata": {},
   "outputs": [],
   "source": [
    "import glob\n",
    "from PyPDF2 import PdfFileWriter, PdfFileReader\n",
    "def merger(output_path, input_paths):\n",
    "    pdf_writer = PdfFileWriter()\n",
    "    for path in input_paths:\n",
    "        pdf_reader = PdfFileReader(path)\n",
    "        for page in range(pdf_reader.getNumPages()):\n",
    "            pdf_writer.addPage(pdf_reader.getPage(page))\n",
    "    with open(output_path, 'wb') as fh:\n",
    "        pdf_writer.write(fh)\n",
    "if __name__ == '__main__':\n",
    "    paths = glob.glob('sample_*.pdf')\n",
    "    paths.sort()\n",
    "    merger('pdf_merger.pdf', paths)"
   ]
  },
  {
   "cell_type": "markdown",
   "metadata": {},
   "source": [
    "# By using PdfFileMerger class"
   ]
  },
  {
   "cell_type": "code",
   "execution_count": 5,
   "metadata": {},
   "outputs": [],
   "source": [
    "import glob\n",
    "from PyPDF2 import PdfFileMerger\n",
    "def merger(output_path, input_paths):\n",
    "    pdf_merger = PdfFileMerger()\n",
    "    file_handles = []\n",
    "    for path in input_paths:\n",
    "        pdf_merger.append(path)\n",
    "    with open(output_path, 'wb') as fileobj:\n",
    "        pdf_merger.write(fileobj)\n",
    "if __name__ == '__main__':\n",
    "    paths = glob.glob('sample_*.pdf')\n",
    "    paths.sort()\n",
    "    merger('pdf_merger2.pdf', paths)"
   ]
  },
  {
   "cell_type": "markdown",
   "metadata": {},
   "source": [
    "# Rotating Pages"
   ]
  },
  {
   "cell_type": "code",
   "execution_count": 7,
   "metadata": {},
   "outputs": [],
   "source": [
    "from PyPDF2 import PdfFileWriter, PdfFileReader\n",
    "def rotator(path):\n",
    "    pdf_writer = PdfFileWriter()\n",
    "    pdf_reader = PdfFileReader(path)\n",
    "    page1 = pdf_reader.getPage(0).rotateClockwise(90)\n",
    "    pdf_writer.addPage(page1)\n",
    "    page2 = pdf_reader.getPage(1).rotateCounterClockwise(90)\n",
    "    pdf_writer.addPage(page2)\n",
    "    pdf_writer.addPage(pdf_reader.getPage(1))\n",
    "    with open('pdf_rotator.pdf', 'wb') as fh:\n",
    "        pdf_writer.write(fh)\n",
    "if __name__ == '__main__':\n",
    "    rotator('sample.pdf')"
   ]
  },
  {
   "cell_type": "markdown",
   "metadata": {},
   "source": [
    "# Overlaying/Watermarking Pages"
   ]
  },
  {
   "cell_type": "code",
   "execution_count": 9,
   "metadata": {},
   "outputs": [],
   "source": [
    "from PyPDF2 import PdfFileWriter, PdfFileReader\n",
    "def watermark(input_pdf, output_pdf, watermark_pdf):\n",
    "    watermark = PdfFileReader(watermark_pdf)\n",
    "    watermark_page = watermark.getPage(0)\n",
    "    pdf = PdfFileReader(input_pdf)\n",
    "    pdf_writer = PdfFileWriter()\n",
    "    for page in range(pdf.getNumPages()):\n",
    "        pdf_page = pdf.getPage(page)\n",
    "        pdf_page.mergePage(watermark_page)\n",
    "        pdf_writer.addPage(pdf_page)\n",
    "    with open(output_pdf, 'wb') as fh:\n",
    "        pdf_writer.write(fh)\n",
    "if __name__ == '__main__':\n",
    "    watermark(input_pdf='sample.pdf', \n",
    "              output_pdf='watermarked_sample.pdf',\n",
    "              watermark_pdf='watermark.pdf')"
   ]
  },
  {
   "cell_type": "markdown",
   "metadata": {},
   "source": [
    "# PDF Encryption"
   ]
  },
  {
   "cell_type": "code",
   "execution_count": 11,
   "metadata": {},
   "outputs": [],
   "source": [
    "from PyPDF2 import PdfFileWriter, PdfFileReader\n",
    "def encrypt(input_pdf, output_pdf, password):\n",
    "    pdf_writer = PdfFileWriter()\n",
    "    pdf_reader = PdfFileReader(input_pdf)\n",
    "    for page in range(pdf_reader.getNumPages()):\n",
    "        pdf_writer.addPage(pdf_reader.getPage(page))\n",
    "    pdf_writer.encrypt(user_pwd=password, owner_pwd=None, \n",
    "                       use_128bit=True)\n",
    "    with open(output_pdf, 'wb') as fh:\n",
    "        pdf_writer.write(fh)\n",
    "if __name__ == '__main__':\n",
    "    encrypt(input_pdf='sample.pdf',\n",
    "            output_pdf='encrypted.pdf',\n",
    "            password='pdfpass')"
   ]
  },
  {
   "cell_type": "code",
   "execution_count": null,
   "metadata": {},
   "outputs": [],
   "source": []
  }
 ],
 "metadata": {
  "kernelspec": {
   "display_name": "Python 3",
   "language": "python",
   "name": "python3"
  },
  "language_info": {
   "codemirror_mode": {
    "name": "ipython",
    "version": 3
   },
   "file_extension": ".py",
   "mimetype": "text/x-python",
   "name": "python",
   "nbconvert_exporter": "python",
   "pygments_lexer": "ipython3",
   "version": "3.7.4"
  }
 },
 "nbformat": 4,
 "nbformat_minor": 2
}
