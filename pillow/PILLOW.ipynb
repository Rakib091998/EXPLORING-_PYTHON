{
 "cells": [
  {
   "cell_type": "code",
   "execution_count": 1,
   "metadata": {},
   "outputs": [],
   "source": [
    "# Open image\n",
    "\n",
    "from PIL import Image\n",
    "image1 = Image.open('dog1.jpg')\n",
    "image1.show()"
   ]
  },
  {
   "cell_type": "code",
   "execution_count": 2,
   "metadata": {},
   "outputs": [],
   "source": [
    "# Save image as png\n",
    "\n",
    "from PIL import Image\n",
    "image1 = Image.open('dog1.jpg')\n",
    "image1.save('dog1.png')"
   ]
  },
  {
   "cell_type": "code",
   "execution_count": 3,
   "metadata": {},
   "outputs": [
    {
     "name": "stdout",
     "output_type": "stream",
     "text": [
      "dog1.jpg\n",
      "dog2.jpg\n",
      "dog3.jpg\n",
      "dog4.jpg\n",
      "dog5.jpg\n"
     ]
    }
   ],
   "source": [
    "# Save more than one image as png\n",
    "\n",
    "from PIL import Image\n",
    "import os\n",
    "\n",
    "for f in os.listdir('.'):\n",
    "    if f.endswith('.jpg'):\n",
    "        print (f)\n",
    "\n",
    "from PIL import Image\n",
    "image1 = Image.open('dog1.jpg')"
   ]
  },
  {
   "cell_type": "code",
   "execution_count": 4,
   "metadata": {},
   "outputs": [],
   "source": [
    "# Save more than one image of particular size in a folder\n",
    "\n",
    "from PIL import Image\n",
    "import os\n",
    "\n",
    "size_300 = (300,300)\n",
    "\n",
    "for f in os.listdir('.'):\n",
    "    if f.endswith('.jpg'):\n",
    "        i = Image.open(f)\n",
    "        fn , ftext = os.path.splitext(f)\n",
    "        i.thumbnail(size_300)\n",
    "        i.save('300/{}_300{}'.format(fn,ftext))"
   ]
  },
  {
   "cell_type": "code",
   "execution_count": 5,
   "metadata": {},
   "outputs": [],
   "source": [
    "# Save more than one image of  2 different size in a folder\n",
    "\n",
    "from PIL import Image\n",
    "import os\n",
    "\n",
    "size_300 = (300,300)\n",
    "size_700 = (700,700)\n",
    "\n",
    "for f in os.listdir('.'):\n",
    "    if f.endswith('.jpg'):\n",
    "        i = Image.open(f)\n",
    "        fn , ftext = os.path.splitext(f)\n",
    "        i.thumbnail(size_700)\n",
    "        i.save('700/{}_700{}'.format(fn,ftext))\n",
    "\n",
    "        i.thumbnail(size_300)\n",
    "        i.save('300/{}_300{}'.format(fn,ftext))"
   ]
  },
  {
   "cell_type": "code",
   "execution_count": 6,
   "metadata": {},
   "outputs": [],
   "source": [
    "# Rotate iamge\n",
    "\n",
    "from PIL import Image\n",
    "import os\n",
    "\n",
    "image1 = Image.open('dog1.jpg')\n",
    "image1.rotate(90).save('dog1.jpg')"
   ]
  },
  {
   "cell_type": "code",
   "execution_count": 7,
   "metadata": {},
   "outputs": [],
   "source": [
    "# For black and white images\n",
    "\n",
    "from PIL import Image\n",
    "import os\n",
    "\n",
    "image1 = Image.open('dog1.jpg')\n",
    "image1.convert(mode='L').save('dog1.jpg')"
   ]
  },
  {
   "cell_type": "code",
   "execution_count": 8,
   "metadata": {},
   "outputs": [],
   "source": [
    "# Blur image\n",
    "\n",
    "from PIL import Image,ImageFilter\n",
    "import os\n",
    "\n",
    "image1 = Image.open('dog1.jpg')\n",
    "image1.filter(ImageFilter.GaussianBlur(15)).save('dog1.jpg')"
   ]
  },
  {
   "cell_type": "code",
   "execution_count": null,
   "metadata": {},
   "outputs": [],
   "source": []
  }
 ],
 "metadata": {
  "kernelspec": {
   "display_name": "Python 3",
   "language": "python",
   "name": "python3"
  },
  "language_info": {
   "codemirror_mode": {
    "name": "ipython",
    "version": 3
   },
   "file_extension": ".py",
   "mimetype": "text/x-python",
   "name": "python",
   "nbconvert_exporter": "python",
   "pygments_lexer": "ipython3",
   "version": "3.7.4"
  }
 },
 "nbformat": 4,
 "nbformat_minor": 2
}
