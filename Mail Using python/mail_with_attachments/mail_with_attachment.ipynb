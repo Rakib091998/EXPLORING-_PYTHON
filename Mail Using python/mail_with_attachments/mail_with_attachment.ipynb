{
 "cells": [
  {
   "cell_type": "markdown",
   "metadata": {},
   "source": [
    "# * Official Documentation: https://docs.python.org/3/library/smtplib.html"
   ]
  },
  {
   "cell_type": "code",
   "execution_count": null,
   "metadata": {},
   "outputs": [],
   "source": [
    "# works only for gmail"
   ]
  },
  {
   "cell_type": "code",
   "execution_count": null,
   "metadata": {},
   "outputs": [],
   "source": [
    "## https://myaccount.google.com/lesssecureapps (turn it on, who does not have two step verification method)\n",
    "## https://myaccount.google.com/apppasswords (create a password, who does have two step verification method)"
   ]
  },
  {
   "cell_type": "markdown",
   "metadata": {},
   "source": [
    "### ----------------------------------------------\n",
    "### Multipurpose Internet Mail Extensions (MIME)\n",
    "### base 64 : use for encoder and decoder\n",
    "### smtplib : python mail library\n",
    "### payload : the part of transmitted data that is the actual intended message"
   ]
  },
  {
   "cell_type": "code",
   "execution_count": null,
   "metadata": {},
   "outputs": [],
   "source": [
    "\n",
    "\n",
    "import smtplib\n",
    "from email.mime.text import MIMEText\n",
    "from email.mime.multipart import MIMEMultipart\n",
    "from email.mime.base import MIMEBase\n",
    "from email import encoders\n",
    "\n",
    "email_user = 'abc@gmail.com'\n",
    "password = input(str(\"please enter your password: \"))\n",
    "email_send = 'def@gmail.com'\n",
    "subject = 'subject'\n",
    "\n",
    "msg = MIMEMultipart()\n",
    "msg['From'] = email_user\n",
    "msg['To'] = email_send\n",
    "msg['Subject'] = subject\n",
    "\n",
    "body = 'Hi there, sending this email from Python!'\n",
    "msg.attach(MIMEText(body,'plain'))\n",
    "\n",
    "filename='filename.extention'\n",
    "attachment  =open(filename,'rb')\n",
    "\n",
    "part = MIMEBase('application','octet-stream')\n",
    "part.set_payload((attachment).read())\n",
    "encoders.encode_base64(part)\n",
    "part.add_header('Content-Disposition',\"attachment; filename= \"+filename)\n",
    "\n",
    "msg.attach(part)\n",
    "text = msg.as_string()\n",
    "server = smtplib.SMTP('smtp.gmail.com',587)\n",
    "server.starttls()\n",
    "server.login(email_user,password)\n",
    "\n",
    "\n",
    "server.sendmail(email_user,email_send,text)\n",
    "server.quit()"
   ]
  },
  {
   "cell_type": "code",
   "execution_count": null,
   "metadata": {},
   "outputs": [],
   "source": []
  }
 ],
 "metadata": {
  "kernelspec": {
   "display_name": "Python 3",
   "language": "python",
   "name": "python3"
  },
  "language_info": {
   "codemirror_mode": {
    "name": "ipython",
    "version": 3
   },
   "file_extension": ".py",
   "mimetype": "text/x-python",
   "name": "python",
   "nbconvert_exporter": "python",
   "pygments_lexer": "ipython3",
   "version": "3.7.4"
  }
 },
 "nbformat": 4,
 "nbformat_minor": 2
}
