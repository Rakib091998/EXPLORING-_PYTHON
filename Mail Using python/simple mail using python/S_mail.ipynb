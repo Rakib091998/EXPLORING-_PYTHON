{
 "cells": [
  {
   "cell_type": "code",
   "execution_count": null,
   "metadata": {},
   "outputs": [],
   "source": [
    "# Official Documentation: https://docs.python.org/3/library/smtplib.html\n",
    "\n",
    "# https://myaccount.google.com/lesssecureapps (turn it on, who does not have two step verification method)\n",
    "# https://myaccount.google.com/apppasswords (create a password, who does have two step verification method)\n",
    "\n",
    "import smtplib\n",
    "\n",
    "sender_email = \"abc@gmail.com\"\n",
    "rec_email = \"def@gmail.com\"\n",
    "password = input(str(\"please enter your password: \"))\n",
    "message = \"mail sent using python\"\n",
    "\n",
    "server = smtplib.SMTP('smtp.gmail.com', 587)\n",
    "server.starttls()\n",
    "server.login(sender_email, password)\n",
    "print(\"Login success\")\n",
    "server.sendmail(sender_email, rec_email, message)\n",
    "print(\"Email has been sent to\",rec_email)"
   ]
  },
  {
   "cell_type": "code",
   "execution_count": null,
   "metadata": {},
   "outputs": [],
   "source": []
  }
 ],
 "metadata": {
  "kernelspec": {
   "display_name": "Python 3",
   "language": "python",
   "name": "python3"
  },
  "language_info": {
   "codemirror_mode": {
    "name": "ipython",
    "version": 3
   },
   "file_extension": ".py",
   "mimetype": "text/x-python",
   "name": "python",
   "nbconvert_exporter": "python",
   "pygments_lexer": "ipython3",
   "version": "3.7.4"
  }
 },
 "nbformat": 4,
 "nbformat_minor": 2
}
